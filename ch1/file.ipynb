{
 "cells": [
  {
   "cell_type": "markdown",
   "metadata": {},
   "source": [
    "#### 파일 입출력\n",
    "- open(\"파일명\",\"모드\")\n",
    "- 모드 : r(read), w(write), a(append)\n",
    "- with open() as f"
   ]
  },
  {
   "cell_type": "code",
   "execution_count": 5,
   "metadata": {},
   "outputs": [
    {
     "data": {
      "text/plain": [
       "'Kim\\nPark\\nChoi'"
      ]
     },
     "execution_count": 5,
     "metadata": {},
     "output_type": "execute_result"
    }
   ],
   "source": [
    "f = open(\"./resource/test1.txt\",\"r\")\n",
    "dir(f)\n",
    "f.read() # 전체 읽기"
   ]
  },
  {
   "cell_type": "code",
   "execution_count": 16,
   "metadata": {},
   "outputs": [],
   "source": [
    "with open(\"./resource/test1.txt\",\"r\") as f:\n",
    "    f.read()"
   ]
  },
  {
   "cell_type": "code",
   "execution_count": 6,
   "metadata": {},
   "outputs": [
    {
     "data": {
      "text/plain": [
       "'Kim\\n'"
      ]
     },
     "execution_count": 6,
     "metadata": {},
     "output_type": "execute_result"
    }
   ],
   "source": [
    "f = open(\"./resource/test1.txt\",\"r\")\n",
    "dir(f)\n",
    "f.readline() # 줄단위 읽기"
   ]
  },
  {
   "cell_type": "code",
   "execution_count": 7,
   "metadata": {},
   "outputs": [
    {
     "data": {
      "text/plain": [
       "['Kim\\n', 'Park\\n', 'Choi']"
      ]
     },
     "execution_count": 7,
     "metadata": {},
     "output_type": "execute_result"
    }
   ],
   "source": [
    "f = open(\"./resource/test1.txt\",\"r\")\n",
    "f.readlines() # 전체 읽어서 리스트로 돌려줌"
   ]
  },
  {
   "cell_type": "code",
   "execution_count": 9,
   "metadata": {},
   "outputs": [],
   "source": [
    "f = open(\"./resource/test2.txt\",\"w\",encoding=\"utf-8\")\n",
    "f.write(\"안녕하세요\\n반갑습니다.\")\n",
    "f.close()"
   ]
  },
  {
   "cell_type": "code",
   "execution_count": 10,
   "metadata": {},
   "outputs": [],
   "source": [
    "# 1번째 줄입니다 ~10번째 줄입니다\n",
    "f=open(\"./resource/test3.txt\",\"w\",encoding=\"utf-8\")\n",
    "for i in range(1,11):\n",
    "    f.write(\"%d 번째 줄입니다.\\n\" % i)\n",
    "f.close()"
   ]
  },
  {
   "cell_type": "code",
   "execution_count": 12,
   "metadata": {},
   "outputs": [],
   "source": [
    "f=open(\"./resource/test4.txt\",\"w\",encoding=\"utf-8\")\n",
    "f.writelines([\"Kim\\n\",\"Park\\n\",\"Choi\\n\"]) #리스트 값을 파일에 쓰기\n",
    "f.close()"
   ]
  },
  {
   "cell_type": "code",
   "execution_count": 15,
   "metadata": {},
   "outputs": [],
   "source": [
    "f=open(\"./resource/test4.txt\",\"w\",encoding=\"utf-8\")\n",
    "dict1 = {\"name\":\"hong\",\"age\":\"25\",\"addr\":\"서울\"}\n",
    "for k, v in dict1.items():\n",
    "    f.writelines(\"{} : {}\\n\".format(k,v))\n",
    "f.close()"
   ]
  },
  {
   "cell_type": "code",
   "execution_count": 17,
   "metadata": {},
   "outputs": [],
   "source": [
    "with open(\"./resource/test4.txt\",\"w\",encoding=\"utf-8\") as f:\n",
    "    dict1 = {\"name\":\"hong\",\"age\":\"25\",\"addr\":\"서울\"}\n",
    "    for k, v in dict1.items():\n",
    "        f.writelines(\"{} : {}\\n\".format(k,v))"
   ]
  },
  {
   "cell_type": "code",
   "execution_count": 18,
   "metadata": {},
   "outputs": [
    {
     "name": "stdout",
     "output_type": "stream",
     "text": [
      "The film, projected in the form of animation,\n",
      "imparts the lesson of how wars can be eluded through reasoning and peaceful dialogues,\n",
      "which eventually paves the path for gaining a fresh perspective on an age-old problem.\n",
      "The story also happens to centre around two parallel characters, Shundi King and Hundi King,\n",
      "who are twins, but they constantly fight over unresolved issues planted in their minds\n",
      "by external forces from within their very own units.\n"
     ]
    }
   ],
   "source": [
    "with open(\"./resource/review.txt\",\"r\") as f:\n",
    "    print(f.read())"
   ]
  },
  {
   "cell_type": "code",
   "execution_count": 25,
   "metadata": {},
   "outputs": [
    {
     "name": "stdout",
     "output_type": "stream",
     "text": [
      "The film, projected in the form of animation,\n",
      "\n",
      "imparts the lesson of how wars can be eluded through reasoning and peaceful dialogues,\n",
      "\n",
      "which eventually paves the path for gaining a fresh perspective on an age-old problem.\n",
      "\n",
      "The story also happens to centre around two parallel characters, Shundi King and Hundi King,\n",
      "\n",
      "who are twins, but they constantly fight over unresolved issues planted in their minds\n",
      "\n",
      "by external forces from within their very own units.\n"
     ]
    }
   ],
   "source": [
    "with open(\"./resource/review.txt\",\"r\") as f:\n",
    "    line = f.readline()\n",
    "    while line:\n",
    "        print(line)\n",
    "        line = f.readline()"
   ]
  },
  {
   "cell_type": "code",
   "execution_count": 26,
   "metadata": {},
   "outputs": [
    {
     "name": "stdout",
     "output_type": "stream",
     "text": [
      "['The film, projected in the form of animation,\\n', 'imparts the lesson of how wars can be eluded through reasoning and peaceful dialogues,\\n', 'which eventually paves the path for gaining a fresh perspective on an age-old problem.\\n', 'The story also happens to centre around two parallel characters, Shundi King and Hundi King,\\n', 'who are twins, but they constantly fight over unresolved issues planted in their minds\\n', 'by external forces from within their very own units.']\n"
     ]
    }
   ],
   "source": [
    "with open(\"./resource/review.txt\",\"r\") as f:\n",
    "    print(f.readlines())"
   ]
  },
  {
   "cell_type": "code",
   "execution_count": 36,
   "metadata": {},
   "outputs": [
    {
     "name": "stdout",
     "output_type": "stream",
     "text": [
      "\n",
      "520\n",
      "86.66666666666667\n"
     ]
    }
   ],
   "source": [
    "with open(\"./resource/score.txt\",\"r\") as f:\n",
    "    list1 = f.readlines()\n",
    "    hap=0\n",
    "    for num in list1:\n",
    "        hap += int(num) \n",
    "print()\n",
    "print(hap)\n",
    "print(hap/len(list1))"
   ]
  },
  {
   "cell_type": "code",
   "execution_count": 40,
   "metadata": {},
   "outputs": [
    {
     "name": "stdout",
     "output_type": "stream",
     "text": [
      "\n",
      "520\n",
      "86.66666666666667\n"
     ]
    }
   ],
   "source": [
    "score=[]\n",
    "with open(\"./resource/score.txt\",\"r\") as f:\n",
    "    for num in f:\n",
    "        # print(num,end=\"\")\n",
    "        score.append(int(num))\n",
    "print()\n",
    "print(sum(score))\n",
    "print(sum(score)/len(score))"
   ]
  },
  {
   "cell_type": "code",
   "execution_count": 44,
   "metadata": {},
   "outputs": [],
   "source": [
    "# score.txt 읽어서 총합과 평균을 구한 후 result.txt 작성\n",
    "# reseult.txt\n",
    "# 총합: 520\n",
    "# 평균 :86.66\n",
    "score=[]\n",
    "with open(\"./resource/score.txt\",\"r\") as f:\n",
    "    for num in f:\n",
    "        # print(num,end=\"\")\n",
    "        score.append(int(num))\n",
    "with open(\"./resource/result.txt\",\"w\",encoding=\"utf-8\") as f1:\n",
    "    dict2 = {\"총합\":sum(score),\"평균\":sum(score)/len(score)}\n",
    "    for k, v in dict2.items():\n",
    "        f1.writelines(\"{} : {}\\n\".format(k,v))\n"
   ]
  },
  {
   "cell_type": "code",
   "execution_count": 47,
   "metadata": {},
   "outputs": [
    {
     "data": {
      "text/plain": [
       "0.743388703872924"
      ]
     },
     "execution_count": 47,
     "metadata": {},
     "output_type": "execute_result"
    }
   ],
   "source": [
    "import random\n",
    "\n",
    "random.random()"
   ]
  },
  {
   "cell_type": "code",
   "execution_count": 51,
   "metadata": {},
   "outputs": [
    {
     "name": "stdout",
     "output_type": "stream",
     "text": [
      "1\n",
      "1\n",
      "19\n"
     ]
    }
   ],
   "source": [
    "print(random.randint(1,10))\n",
    "print(random.choice([1,2,3,4,5]))\n",
    "print(random.randrange(1,45))"
   ]
  },
  {
   "cell_type": "code",
   "execution_count": 66,
   "metadata": {},
   "outputs": [],
   "source": [
    "# 500명의 키와 몸무게를 랜덤하게 생성 후 파일에 저장\n",
    "import random\n",
    "strings = list(\"가나다라마바사아자차카타파하\")\n",
    "\n",
    "# print(random.choices(strings) + random.choices(strings))\n",
    "# print(random.randrange(150,200))\n",
    "# print(random.randrange(50,100))\n",
    "\n",
    "with open(\"./resource/info.txt\",\"w\",encoding=\"utf-8\") as f:\n",
    "    for i in range(500):\n",
    "        name = random.choice(strings) + random.choice(strings)\n",
    "        height = random.randrange(150,200)\n",
    "        weight = random.randrange(50,100)\n",
    "        f.write(f\"{name}, {height}, {weight}\\n\")"
   ]
  },
  {
   "cell_type": "code",
   "execution_count": null,
   "metadata": {},
   "outputs": [],
   "source": [
    "# info.txt 읽어서 BMI 치수 계산\n",
    "# bmi = weight / (height / 100 ** 2)\n",
    "# bmi >= 25 과체중, >= 18.5 정상체중,저체중\n",
    "# bmi=0\n",
    "with open(\"./resource/info.txt\",\"r\",encoding=\"utf-8\") as f:\n",
    "    for row in f:\n",
    "        print(row,end=\"\")\n",
    "        name,height,weight = row.strip().split(\", \")\n",
    "        print(name,height,weight)\n",
    "        bmi = int(weight) / (int(height) / 100 * 2)\n",
    "        result= None\n",
    "        if bmi >=25:\n",
    "            result = \"과체중\"\n",
    "        elif bmi >= 18.5:\n",
    "            result = \"정상체중\"\n",
    "        else:\n",
    "            result = \"저체중\"\n",
    "        # print(f\"이름 : {name}/n {height}/n\")\n",
    "        print(\"\\n\".join([\"이름 : {}\",\"키 : {}\",\"몸무게 : {}\",\"bmi : {}\",\"결과 : {}\"]).format(name,weight,height,bmi,result))\n",
    "\n"
   ]
  },
  {
   "cell_type": "code",
   "execution_count": null,
   "metadata": {},
   "outputs": [],
   "source": [
    "# ord() : 특정문자열 유니코드 값 반환\n",
    "# chr() : 유니코드 값 특정 문자열로 반환\n"
   ]
  },
  {
   "cell_type": "code",
   "execution_count": null,
   "metadata": {},
   "outputs": [],
   "source": [
    "content = None\n",
    "while True:\n",
    "    no = int(input(\"1. 암호화 | 2. 복호화 | 3. 종료 중 원하는 메뉴 번호 입력 : \"))\n",
    "\n",
    "    if no == 1:\n",
    "        # origin.txt 읽은후 content변수에 담기\n",
    "        # content 변수에 담은 값을 ord((가) + 100) 변경 후 파일에 작성 : encryption.txt\n",
    "        with open(\"./resource/origin.txt\",\"r\",encoding=\"utf-8\") as f:\n",
    "                content = f.read()\n",
    "        with open(\"./resource/origin.txt\",\"w\",encoding=\"utf-8\") as f:\n",
    "                for c in content:\n",
    "                     f.write(chr(ord(c) + 100))      \n",
    "        \n",
    "    elif no == 2:\n",
    "        # encryption.txt 읽어온 후 원래의 문자로 출력\n",
    "        with open(\"./resource/encrytion.txt\",\"w\",encoding=\"utf-8\") as f:\n",
    "             content = f.read()\n",
    "             for i in range(0,len(content)):\n",
    "                  print(chr(ord(content[i])-100),end=\"\")\n",
    "    else:\n",
    "        break"
   ]
  },
  {
   "cell_type": "code",
   "execution_count": 6,
   "metadata": {},
   "outputs": [
    {
     "name": "stdout",
     "output_type": "stream",
     "text": [
      "<_csv.reader object at 0x0000017306BBF4C0>\n",
      "['1', '김정수', '2017-01-19 11:30:00', '25']\n",
      "['2', '박민구', '2017-02-07 10:22:00', '35']\n",
      "['3', '정순미', '2017-01-22 09:10:00', '33']\n",
      "['4', '김정현', '2017-02-22 14:09:00', '45']\n",
      "['5', '홍미진', '2017-04-01 18:00:00', '17']\n",
      "['6', '김순철', '2017-05-14 22:33:07', '22']\n",
      "['7', '이동철', '2017-03-01 23:44:45', '27']\n",
      "['8', '박지숙', '2017-01-11 06:04:18', '30']\n",
      "['9', '김은미', '2017-02-08 07:44:33', '51']\n",
      "['10', '장혁철', '2017-12-01 13:01:11', '16']\n"
     ]
    }
   ],
   "source": [
    "import csv\n",
    "\n",
    "with open(\"./resource/sample1.csv\",\"r\") as f:\n",
    "    reader = csv.reader(f)\n",
    "    print(reader)\n",
    "    next(reader) # 헤더명 제거\n",
    "    for c in reader:\n",
    "        print(c)"
   ]
  },
  {
   "cell_type": "code",
   "execution_count": 8,
   "metadata": {},
   "outputs": [
    {
     "name": "stdout",
     "output_type": "stream",
     "text": [
      "['번호', '이름', '가입일시', '나이']\n",
      "['1', '김정수', '2017-01-19 11:30:00', '25']\n",
      "['2', '박민구', '2017-02-07 10:22:00', '35']\n",
      "['3', '정순미', '2017-01-22 09:10:00', '33']\n",
      "['4', '김정현', '2017-02-22 14:09:00', '45']\n",
      "['5', '홍미진', '2017-04-01 18:00:00', '17']\n",
      "['6', '김순철', '2017-05-14 22:33:07', '22']\n",
      "['7', '이동철', '2017-03-01 23:44:45', '27']\n",
      "['8', '박지숙', '2017-01-11 06:04:18', '30']\n",
      "['9', '김은미', '2017-02-08 07:44:33', '51']\n",
      "['10', '장혁철', '2017-12-01 13:01:11', '16']\n"
     ]
    }
   ],
   "source": [
    "with open(\"./resource/sample2.csv\",\"r\") as f:\n",
    "    reader= csv.reader(f,delimiter=\"|\")\n",
    "    for c in reader:\n",
    "        print(c)"
   ]
  },
  {
   "cell_type": "code",
   "execution_count": 9,
   "metadata": {},
   "outputs": [
    {
     "name": "stdout",
     "output_type": "stream",
     "text": [
      "{'번호': '1', '이름': '김정수', '가입일시': '2017-01-19 11:30:00', '나이': '25'}\n",
      "{'번호': '2', '이름': '박민구', '가입일시': '2017-02-07 10:22:00', '나이': '35'}\n",
      "{'번호': '3', '이름': '정순미', '가입일시': '2017-01-22 09:10:00', '나이': '33'}\n",
      "{'번호': '4', '이름': '김정현', '가입일시': '2017-02-22 14:09:00', '나이': '45'}\n",
      "{'번호': '5', '이름': '홍미진', '가입일시': '2017-04-01 18:00:00', '나이': '17'}\n",
      "{'번호': '6', '이름': '김순철', '가입일시': '2017-05-14 22:33:07', '나이': '22'}\n",
      "{'번호': '7', '이름': '이동철', '가입일시': '2017-03-01 23:44:45', '나이': '27'}\n",
      "{'번호': '8', '이름': '박지숙', '가입일시': '2017-01-11 06:04:18', '나이': '30'}\n",
      "{'번호': '9', '이름': '김은미', '가입일시': '2017-02-08 07:44:33', '나이': '51'}\n",
      "{'번호': '10', '이름': '장혁철', '가입일시': '2017-12-01 13:01:11', '나이': '16'}\n"
     ]
    }
   ],
   "source": [
    "with open(\"./resource/sample1.csv\",\"r\")as f:\n",
    "    reader = csv.DictReader(f)\n",
    "    for c in reader:\n",
    "        print(c)"
   ]
  },
  {
   "cell_type": "code",
   "execution_count": 10,
   "metadata": {},
   "outputs": [],
   "source": [
    "list1=[3,5,6,7]\n",
    "with open(\"./resource/sample3.csv\",\"w\")as f:\n",
    "    wt = csv.writer(f)\n",
    "    wt.writerow(list1)"
   ]
  },
  {
   "cell_type": "code",
   "execution_count": 14,
   "metadata": {},
   "outputs": [],
   "source": [
    "list1 =[[1,2,3],[4,5,6],[7,8,9],[10,11,12],[13,14,15]]\n",
    "with open(\"./resource/sample4.csv\",\"w\",newline=\"\") as f:\n",
    "    wt = csv.writer(f)\n",
    "    wt.writerows(list1)"
   ]
  },
  {
   "cell_type": "code",
   "execution_count": null,
   "metadata": {},
   "outputs": [],
   "source": []
  }
 ],
 "metadata": {
  "kernelspec": {
   "display_name": "venv",
   "language": "python",
   "name": "python3"
  },
  "language_info": {
   "codemirror_mode": {
    "name": "ipython",
    "version": 3
   },
   "file_extension": ".py",
   "mimetype": "text/x-python",
   "name": "python",
   "nbconvert_exporter": "python",
   "pygments_lexer": "ipython3",
   "version": "3.12.3"
  }
 },
 "nbformat": 4,
 "nbformat_minor": 2
}
